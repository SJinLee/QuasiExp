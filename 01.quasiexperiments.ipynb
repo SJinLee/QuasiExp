{
  "nbformat": 4,
  "nbformat_minor": 0,
  "metadata": {
    "colab": {
      "provenance": [],
      "authorship_tag": "ABX9TyMNGXt7k8+eowQPxJt/CUL+",
      "include_colab_link": true
    },
    "kernelspec": {
      "name": "ir",
      "display_name": "R"
    },
    "language_info": {
      "name": "R"
    }
  },
  "cells": [
    {
      "cell_type": "markdown",
      "metadata": {
        "id": "view-in-github",
        "colab_type": "text"
      },
      "source": [
        "<a href=\"https://colab.research.google.com/github/SJinLee/QuasiExp/blob/main/01.quasiexperiments.ipynb\" target=\"_parent\"><img src=\"https://colab.research.google.com/assets/colab-badge.svg\" alt=\"Open In Colab\"/></a>"
      ]
    },
    {
      "cell_type": "markdown",
      "source": [
        "https://www.princeton.edu/~otorres/DID101R.pdf"
      ],
      "metadata": {
        "id": "ouySic3VK_hF"
      }
    },
    {
      "cell_type": "code",
      "source": [
        "library(foreign)\n",
        "mydata = read.dta(\"http://dss.princeton.edu/training/Panel101.dta\")"
      ],
      "metadata": {
        "id": "p1OXhzfuLLiJ"
      },
      "execution_count": 1,
      "outputs": []
    },
    {
      "cell_type": "code",
      "source": [
        "head(mydata)"
      ],
      "metadata": {
        "colab": {
          "base_uri": "https://localhost:8080/",
          "height": 286
        },
        "id": "82B2JFgrLOoS",
        "outputId": "143e526c-d813-4962-e7ab-1730822a370e"
      },
      "execution_count": 3,
      "outputs": [
        {
          "output_type": "display_data",
          "data": {
            "text/html": [
              "<table class=\"dataframe\">\n",
              "<caption>A data.frame: 6 × 9</caption>\n",
              "<thead>\n",
              "\t<tr><th></th><th scope=col>country</th><th scope=col>year</th><th scope=col>y</th><th scope=col>y_bin</th><th scope=col>x1</th><th scope=col>x2</th><th scope=col>x3</th><th scope=col>opinion</th><th scope=col>op</th></tr>\n",
              "\t<tr><th></th><th scope=col>&lt;fct&gt;</th><th scope=col>&lt;int&gt;</th><th scope=col>&lt;dbl&gt;</th><th scope=col>&lt;dbl&gt;</th><th scope=col>&lt;dbl&gt;</th><th scope=col>&lt;dbl&gt;</th><th scope=col>&lt;dbl&gt;</th><th scope=col>&lt;fct&gt;</th><th scope=col>&lt;dbl&gt;</th></tr>\n",
              "</thead>\n",
              "<tbody>\n",
              "\t<tr><th scope=row>1</th><td>A</td><td>1990</td><td> 1342787840</td><td>1</td><td>0.2779036</td><td>-1.1079559</td><td> 0.28255358</td><td>Str agree</td><td>1</td></tr>\n",
              "\t<tr><th scope=row>2</th><td>A</td><td>1991</td><td>-1899660544</td><td>0</td><td>0.3206847</td><td>-0.9487200</td><td> 0.49253848</td><td>Disag    </td><td>0</td></tr>\n",
              "\t<tr><th scope=row>3</th><td>A</td><td>1992</td><td>  -11234363</td><td>0</td><td>0.3634657</td><td>-0.7894840</td><td> 0.70252335</td><td>Disag    </td><td>0</td></tr>\n",
              "\t<tr><th scope=row>4</th><td>A</td><td>1993</td><td> 2645775360</td><td>1</td><td>0.2461440</td><td>-0.8855330</td><td>-0.09439092</td><td>Disag    </td><td>0</td></tr>\n",
              "\t<tr><th scope=row>5</th><td>A</td><td>1994</td><td> 3008334848</td><td>1</td><td>0.4246230</td><td>-0.7297683</td><td> 0.94613063</td><td>Disag    </td><td>0</td></tr>\n",
              "\t<tr><th scope=row>6</th><td>A</td><td>1995</td><td> 3229574144</td><td>1</td><td>0.4772141</td><td>-0.7232460</td><td> 1.02968037</td><td>Str agree</td><td>1</td></tr>\n",
              "</tbody>\n",
              "</table>\n"
            ],
            "text/markdown": "\nA data.frame: 6 × 9\n\n| <!--/--> | country &lt;fct&gt; | year &lt;int&gt; | y &lt;dbl&gt; | y_bin &lt;dbl&gt; | x1 &lt;dbl&gt; | x2 &lt;dbl&gt; | x3 &lt;dbl&gt; | opinion &lt;fct&gt; | op &lt;dbl&gt; |\n|---|---|---|---|---|---|---|---|---|---|\n| 1 | A | 1990 |  1342787840 | 1 | 0.2779036 | -1.1079559 |  0.28255358 | Str agree | 1 |\n| 2 | A | 1991 | -1899660544 | 0 | 0.3206847 | -0.9487200 |  0.49253848 | Disag     | 0 |\n| 3 | A | 1992 |   -11234363 | 0 | 0.3634657 | -0.7894840 |  0.70252335 | Disag     | 0 |\n| 4 | A | 1993 |  2645775360 | 1 | 0.2461440 | -0.8855330 | -0.09439092 | Disag     | 0 |\n| 5 | A | 1994 |  3008334848 | 1 | 0.4246230 | -0.7297683 |  0.94613063 | Disag     | 0 |\n| 6 | A | 1995 |  3229574144 | 1 | 0.4772141 | -0.7232460 |  1.02968037 | Str agree | 1 |\n\n",
            "text/latex": "A data.frame: 6 × 9\n\\begin{tabular}{r|lllllllll}\n  & country & year & y & y\\_bin & x1 & x2 & x3 & opinion & op\\\\\n  & <fct> & <int> & <dbl> & <dbl> & <dbl> & <dbl> & <dbl> & <fct> & <dbl>\\\\\n\\hline\n\t1 & A & 1990 &  1342787840 & 1 & 0.2779036 & -1.1079559 &  0.28255358 & Str agree & 1\\\\\n\t2 & A & 1991 & -1899660544 & 0 & 0.3206847 & -0.9487200 &  0.49253848 & Disag     & 0\\\\\n\t3 & A & 1992 &   -11234363 & 0 & 0.3634657 & -0.7894840 &  0.70252335 & Disag     & 0\\\\\n\t4 & A & 1993 &  2645775360 & 1 & 0.2461440 & -0.8855330 & -0.09439092 & Disag     & 0\\\\\n\t5 & A & 1994 &  3008334848 & 1 & 0.4246230 & -0.7297683 &  0.94613063 & Disag     & 0\\\\\n\t6 & A & 1995 &  3229574144 & 1 & 0.4772141 & -0.7232460 &  1.02968037 & Str agree & 1\\\\\n\\end{tabular}\n",
            "text/plain": [
              "  country year y           y_bin x1        x2         x3          opinion   op\n",
              "1 A       1990  1342787840 1     0.2779036 -1.1079559  0.28255358 Str agree 1 \n",
              "2 A       1991 -1899660544 0     0.3206847 -0.9487200  0.49253848 Disag     0 \n",
              "3 A       1992   -11234363 0     0.3634657 -0.7894840  0.70252335 Disag     0 \n",
              "4 A       1993  2645775360 1     0.2461440 -0.8855330 -0.09439092 Disag     0 \n",
              "5 A       1994  3008334848 1     0.4246230 -0.7297683  0.94613063 Disag     0 \n",
              "6 A       1995  3229574144 1     0.4772141 -0.7232460  1.02968037 Str agree 1 "
            ]
          },
          "metadata": {}
        }
      ]
    },
    {
      "cell_type": "code",
      "source": [
        "mydata$time = ifelse(mydata$year >= 1994, 1, 0)\n",
        "mydata$treated = ifelse(mydata$country == \"E\" |\n",
        "                        mydata$country == \"F\" |\n",
        "                        mydata$country == \"G\", 1, 0)\n",
        "mydata$did = mydata$time * mydata$treated"
      ],
      "metadata": {
        "id": "Hew5kpZwLSxH"
      },
      "execution_count": 4,
      "outputs": []
    },
    {
      "cell_type": "code",
      "source": [
        "didreg = lm(y ~ treated + time + did, data = mydata)\n",
        "summary(didreg)"
      ],
      "metadata": {
        "colab": {
          "base_uri": "https://localhost:8080/",
          "height": 384
        },
        "id": "bpbR1Z4NL32H",
        "outputId": "547ac2f6-afe0-4b12-c10e-dfb0707e7ebb"
      },
      "execution_count": 5,
      "outputs": [
        {
          "output_type": "display_data",
          "data": {
            "text/plain": [
              "\n",
              "Call:\n",
              "lm(formula = y ~ treated + time + did, data = mydata)\n",
              "\n",
              "Residuals:\n",
              "       Min         1Q     Median         3Q        Max \n",
              "-9.768e+09 -1.623e+09  1.167e+08  1.393e+09  6.807e+09 \n",
              "\n",
              "Coefficients:\n",
              "              Estimate Std. Error t value Pr(>|t|)  \n",
              "(Intercept)  3.581e+08  7.382e+08   0.485   0.6292  \n",
              "treated      1.776e+09  1.128e+09   1.575   0.1200  \n",
              "time         2.289e+09  9.530e+08   2.402   0.0191 *\n",
              "did         -2.520e+09  1.456e+09  -1.731   0.0882 .\n",
              "---\n",
              "Signif. codes:  0 ‘***’ 0.001 ‘**’ 0.01 ‘*’ 0.05 ‘.’ 0.1 ‘ ’ 1\n",
              "\n",
              "Residual standard error: 2.953e+09 on 66 degrees of freedom\n",
              "Multiple R-squared:  0.08273,\tAdjusted R-squared:  0.04104 \n",
              "F-statistic: 1.984 on 3 and 66 DF,  p-value: 0.1249\n"
            ]
          },
          "metadata": {}
        }
      ]
    },
    {
      "cell_type": "code",
      "source": [
        "didreg = lm(y ~ treated, data = mydata)\n",
        "summary(didreg)"
      ],
      "metadata": {
        "colab": {
          "base_uri": "https://localhost:8080/",
          "height": 347
        },
        "id": "abOEGqfpMHXl",
        "outputId": "47137bc3-b010-4f3e-91ef-cbbed993ef4d"
      },
      "execution_count": 6,
      "outputs": [
        {
          "output_type": "display_data",
          "data": {
            "text/plain": [
              "\n",
              "Call:\n",
              "lm(formula = y ~ treated, data = mydata)\n",
              "\n",
              "Residuals:\n",
              "       Min         1Q     Median         3Q        Max \n",
              "-9.860e+09 -1.732e+09  1.350e+08  1.500e+09  7.095e+09 \n",
              "\n",
              "Coefficients:\n",
              "             Estimate Std. Error t value Pr(>|t|)    \n",
              "(Intercept) 1.732e+09  4.798e+08   3.610 0.000581 ***\n",
              "treated     2.643e+08  7.329e+08   0.361 0.719525    \n",
              "---\n",
              "Signif. codes:  0 ‘***’ 0.001 ‘**’ 0.01 ‘*’ 0.05 ‘.’ 0.1 ‘ ’ 1\n",
              "\n",
              "Residual standard error: 3.034e+09 on 68 degrees of freedom\n",
              "Multiple R-squared:  0.001908,\tAdjusted R-squared:  -0.01277 \n",
              "F-statistic:  0.13 on 1 and 68 DF,  p-value: 0.7195\n"
            ]
          },
          "metadata": {}
        }
      ]
    },
    {
      "cell_type": "code",
      "source": [
        "didreg = lm(y ~ time, data = mydata)\n",
        "summary(didreg)"
      ],
      "metadata": {
        "colab": {
          "base_uri": "https://localhost:8080/",
          "height": 347
        },
        "id": "rKkgWUZiMLTA",
        "outputId": "044952ed-d77b-4cab-c79d-22bbf0de9b15"
      },
      "execution_count": 7,
      "outputs": [
        {
          "output_type": "display_data",
          "data": {
            "text/plain": [
              "\n",
              "Call:\n",
              "lm(formula = y ~ time, data = mydata)\n",
              "\n",
              "Residuals:\n",
              "       Min         1Q     Median         3Q        Max \n",
              "-1.019e+10 -1.823e+09  4.353e+08  1.377e+09  7.822e+09 \n",
              "\n",
              "Coefficients:\n",
              "             Estimate Std. Error t value Pr(>|t|)  \n",
              "(Intercept) 1.119e+09  5.626e+08   1.989   0.0507 .\n",
              "time        1.210e+09  7.263e+08   1.665   0.1004  \n",
              "---\n",
              "Signif. codes:  0 ‘***’ 0.001 ‘**’ 0.01 ‘*’ 0.05 ‘.’ 0.1 ‘ ’ 1\n",
              "\n",
              "Residual standard error: 2.977e+09 on 68 degrees of freedom\n",
              "Multiple R-squared:  0.03919,\tAdjusted R-squared:  0.02506 \n",
              "F-statistic: 2.774 on 1 and 68 DF,  p-value: 0.1004\n"
            ]
          },
          "metadata": {}
        }
      ]
    },
    {
      "cell_type": "code",
      "source": [
        "didreg = lm(y ~ did, data = mydata)\n",
        "summary(didreg)"
      ],
      "metadata": {
        "colab": {
          "base_uri": "https://localhost:8080/",
          "height": 347
        },
        "id": "z0Nr3ZA1MPKA",
        "outputId": "6c80e4b0-bc23-4693-9b05-138e102eb112"
      },
      "execution_count": 8,
      "outputs": [
        {
          "output_type": "display_data",
          "data": {
            "text/plain": [
              "\n",
              "Call:\n",
              "lm(formula = y ~ did, data = mydata)\n",
              "\n",
              "Residuals:\n",
              "       Min         1Q     Median         3Q        Max \n",
              "-9.768e+09 -1.657e+09  7.324e+07  1.531e+09  7.117e+09 \n",
              "\n",
              "Coefficients:\n",
              "             Estimate Std. Error t value Pr(>|t|)    \n",
              "(Intercept) 1.825e+09  4.212e+08   4.332 4.98e-05 ***\n",
              "did         7.940e+07  8.305e+08   0.096    0.924    \n",
              "---\n",
              "Signif. codes:  0 ‘***’ 0.001 ‘**’ 0.01 ‘*’ 0.05 ‘.’ 0.1 ‘ ’ 1\n",
              "\n",
              "Residual standard error: 3.037e+09 on 68 degrees of freedom\n",
              "Multiple R-squared:  0.0001344,\tAdjusted R-squared:  -0.01457 \n",
              "F-statistic: 0.00914 on 1 and 68 DF,  p-value: 0.9241\n"
            ]
          },
          "metadata": {}
        }
      ]
    },
    {
      "cell_type": "code",
      "source": [],
      "metadata": {
        "id": "z0WrZNIjMRUx"
      },
      "execution_count": null,
      "outputs": []
    }
  ]
}